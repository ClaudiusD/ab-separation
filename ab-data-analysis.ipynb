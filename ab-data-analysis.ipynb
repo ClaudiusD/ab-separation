{
 "cells": [
  {
   "cell_type": "code",
   "execution_count": 1,
   "metadata": {
    "collapsed": true
   },
   "outputs": [],
   "source": [
    "#Load third-party packages\n",
    "import numpy as np\n",
    "import matplotlib.pyplot as plt\n",
    "from skimage import transform as tf\n",
    "from skimage import io\n",
    "\n",
    "#Load quat, ebsd and hrdic packages from 'defdap' sub-directory\n",
    "from defdap.quat import Quat\n",
    "import defdap.ebsd as ebsd\n",
    "import defdap.hrdic as hrdic\n",
    "\n",
    "\n",
    "#Set plot behaviour (grain selection has only been tested in osx display mode)\n",
    "import os\n",
    "if os.name == 'posix':\n",
    "    %matplotlib tk\n",
    "else:\n",
    "    %matplotlib tk"
   ]
  },
  {
   "cell_type": "code",
   "execution_count": null,
   "metadata": {
    "collapsed": true
   },
   "outputs": [],
   "source": [
    "def print_maps(self_map, cmap_1=None,vmin_1=0,vmax_1=5): \n",
    "\n",
    "        fig= plt.figure(figsize=(10,7))\n",
    "        plt.imshow(self_map,cmap=cmap_1,vmin=vmin_1,vmax=vmax_1);\n",
    "        plt.tick_params(axis='both', which='both', bottom='off', top='off', labelbottom='off', right='off', left='off', labelleft='off')\n",
    "        cbar = plt.colorbar(pad=0.01)\n",
    "        cbar.set_label(label=\"$\\gamma_{eff}$\",size=40)\n",
    "        cbar.ax.tick_params(labelsize=20)\n",
    "\n",
    "def calc_mask_val(masked):\n",
    "    print(np.nanmean(masked))\n",
    "    print(np.nanpercentile((masked),99))\n",
    "    print(np.nanpercentile((masked),98))\n",
    "    print(np.nanpercentile((masked),95))\n",
    "    print(np.nanpercentile((masked),90))\n"
   ]
  },
  {
   "cell_type": "code",
   "execution_count": null,
   "metadata": {
    "collapsed": true
   },
   "outputs": [],
   "source": [
    "# %matplotlib inline\n",
    "\n",
    "def output(cur_map, vmax1):\n",
    "    fig= plt.figure(figsize=(15,15))\n",
    "    plt.imshow(cur_map,cmap='viridis',vmin=0,vmax=vmax1);\n",
    "    plt.tick_params(axis='both', which='both', bottom='off', top='off', labelbottom='off', right='off', left='off', labelleft='off')\n",
    "    cbar = plt.colorbar(pad=0.05)\n",
    "    cbar.set_label(label=\"$\\gamma_{eff}$\",size=40)\n",
    "    cbar.ax.tick_params(labelsize=20)\n",
    "\n",
    "\n"
   ]
  },
  {
   "cell_type": "code",
   "execution_count": null,
   "metadata": {
    "collapsed": true
   },
   "outputs": [],
   "source": [
    "plt.colorbar?"
   ]
  },
  {
   "cell_type": "code",
   "execution_count": null,
   "metadata": {
    "collapsed": true
   },
   "outputs": [],
   "source": [
    "class ab_Maps(object):\n",
    "    def __init__(self):\n",
    "        self.f11 = None\n",
    "        self.f12 = None\n",
    "        self.f22 = None\n",
    "        self.Max_shear = None\n",
    "        self.masks = None\n",
    "        self.grain_dict = dict()\n",
    "        \n",
    "        self.grain_dict['grains'] = dict()\n",
    "        self.grain_dict['a_grains'] = dict()\n",
    "        self.grain_dict['b_grains'] = dict()\n",
    "        self.grain_dict['mixed_grains'] = dict()\n",
    "        self.grain_dict['ab_stat'] = None\n",
    "\n",
    "        \n",
    "    def creat_masks(self, self_map, self_boundaries, xMin, xMax, yMin, yMax, DicMap, bseImage, a_value = 85, b_value = 10):\n",
    "        x_upper=DicMap.xDim + xMin\n",
    "        y_upper=DicMap.yDim + yMin\n",
    "    \n",
    "        self.masks = dict()\n",
    "        self.masks['alpha']=np.zeros((y_upper - yMin, x_upper - xMin))\n",
    "        self.masks['beta']=np.zeros((y_upper - yMin, x_upper - xMin))\n",
    "        self.masks['mixed']=np.zeros((y_upper - yMin, x_upper - xMin))\n",
    "        self.masks['small']=np.zeros((y_upper - yMin, x_upper - xMin))\n",
    "    \n",
    "        self.masks['BSE_im'] = bseImage[yMin:y_upper,xMin:x_upper]\n",
    "    \n",
    "        self.masks['crop_mask']=self_map[yMin:y_upper,xMin:x_upper]\n",
    "        self.masks['crop_bound']=self_boundaries[yMin:y_upper,xMin:x_upper]\n",
    "\n",
    "        self.masks['mask_manual_a']=(self.masks['crop_mask'] == 0)\n",
    "        self.masks['manual_b']=(self.masks['crop_mask'] == 255)\n",
    "\n",
    "\n",
    "        self.grain_dict['ab_stat'] = [\"Fractions [Number, Area]\",\"Alpha\", 0, 0,\"Beta\", 0, 0,\"Mixed\", 0, 0]\n",
    "        area_map=np.shape(DicMap.grains)[0]*np.shape(DicMap.grains)[1]\n",
    "\n",
    "\n",
    "### This loop asign an average greyscale value to each grain, based on the ab_mask\n",
    "        grains_temp= dict()\n",
    "        row=0\n",
    "        for x in DicMap.grains:\n",
    "            colum=0\n",
    "            for y in x:\n",
    "                if y not in grains_temp:\n",
    "                    grains_temp[y] = [1,0,0]\n",
    "                    grains_temp[y][1] = self.masks['crop_mask'][row, colum]/255\n",
    "                else:\n",
    "                    grains_temp[y][0] += 1\n",
    "                    grains_temp[y][1] += self.masks['crop_mask'][row, colum]/255\n",
    "                colum += 1\n",
    "            row +=1      \n",
    "\n",
    "        for z in grains_temp:\n",
    "            u = grains_temp[z][1] / grains_temp [z][0] * 100\n",
    "            self.grain_dict['grains'][z] = int(u)\n",
    "            if u > a_value:\n",
    "                self.grain_dict['ab_stat'][2] += 1\n",
    "                self.grain_dict['a_grains'][z] = 1\n",
    "            elif u < b_value:\n",
    "                self.grain_dict['ab_stat'][5] += 1\n",
    "                self.grain_dict['b_grains'][z] = 1\n",
    "            else:\n",
    "                self.grain_dict['ab_stat'][8] += 1\n",
    "                self.grain_dict['mixed_grains'][z] = 1\n",
    "            \n",
    "        for x in DicMap.grains:\n",
    "            for y in x:\n",
    "                if y in self.grain_dict['a_grains']:\n",
    "                    self.grain_dict['ab_stat'][3] += 1\n",
    "                if y in self.grain_dict['b_grains']:\n",
    "                    self.grain_dict['ab_stat'][6] += 1\n",
    "                if y in self.grain_dict['mixed_grains']:\n",
    "                    self.grain_dict['ab_stat'][9] += 1\n",
    "        \n",
    "        length_g = len(self.grain_dict['grains'])*100\n",
    "        self.grain_dict['ab_stat'][2] = int(self.grain_dict['ab_stat'][2]/length_g)\n",
    "        self.grain_dict['ab_stat'][5] = int(self.grain_dict['ab_stat'][5]/length_g)\n",
    "        self.grain_dict['ab_stat'][8] = int(self.grain_dict['ab_stat'][8]/length_g)\n",
    "    \n",
    "        size_map = np.shape(self.masks['alpha'])[0]*np.shape(self.masks['alpha'])[1]/100\n",
    "        self.grain_dict['ab_stat'][3] = int(self.grain_dict['ab_stat'][3]/size_map)\n",
    "        self.grain_dict['ab_stat'][6] = int(self.grain_dict['ab_stat'][6]/size_map)\n",
    "        self.grain_dict['ab_stat'][9] = int(self.grain_dict['ab_stat'][9]/size_map)\n",
    "    \n",
    "    \n",
    "### Calculating average values for grains, \n",
    "### needs to be done properly    \n",
    "        i=1\n",
    "        for av in DicMap.calcGrainAv(DicMap.crop(DicMap.max_shear)):\n",
    "            if i in  self.grain_dict['a_grains']:\n",
    "                self.grain_dict['a_grains'][i] = av\n",
    "            if i in  self.grain_dict['a_grains']:\n",
    "                self.grain_dict['b_grains'][i] = av\n",
    "            if i in  self.grain_dict['mixed_grains']:\n",
    "                self.grain_dict['mixed_grains'][i] = av\n",
    "            i += 1\n",
    "\n",
    "### Creating masks            \n",
    "        row = 0\n",
    "        for j in DicMap.grains:\n",
    "            colum =0\n",
    "            for i in j:\n",
    "                if i == -2:\n",
    "                    self.masks['small'][row, colum] = False\n",
    "                    self.masks['alpha'][row, colum] = True\n",
    "                    self.masks['beta'][row, colum] = True\n",
    "                    self.masks['mixed'][row, colum] = True\n",
    "                if i in self.grain_dict['a_grains']:\n",
    "                    self.masks['small'][row, colum] = True\n",
    "                    self.masks['alpha'][row, colum] = False\n",
    "                    self.masks['beta'][row, colum] = True\n",
    "                    self.masks['mixed'][row, colum] = True\n",
    "                elif i in self.grain_dict['b_grains']:\n",
    "                    self.masks['small'][row, colum] = True\n",
    "                    self.masks['alpha'][row, colum] = True\n",
    "                    self.masks['beta'][row, colum] = False\n",
    "                    self.masks['mixed'][row, colum] = True\n",
    "\n",
    "                else:\n",
    "                    self.masks['small'][row, colum] = True\n",
    "                    self.masks['alpha'][row, colum] = True\n",
    "                    self.masks['beta'][row, colum] = True\n",
    "                    self.masks['mixed'][row, colum] = False\n",
    "                colum += 1\n",
    "            row += 1\n",
    "            \n",
    "        \n",
    "    def creat_def_map(self, DicMap):\n",
    "        self.max_shear = Map_transform(self.masks)\n",
    "        self.max_shear.transform(DicMap.crop(DicMap.max_shear))\n",
    "        \n",
    "        self.f11 = Map_transform(self.masks)\n",
    "        self.f11.transform(DicMap.crop(DicMap.f11))\n",
    "        \n",
    "        self.f12 = Map_transform(self.masks)\n",
    "        self.f12.transform(DicMap.crop(DicMap.f12))\n",
    "        \n",
    "        self.f22 = Map_transform(self.masks)\n",
    "        self.f22.transform(DicMap.crop(DicMap.f22))\n",
    "        \n",
    "        self.BSE = Map_transform(self.masks)\n",
    "        self.BSE.transform(self.masks['BSE_im'])\n",
    "        \n",
    "          \n",
    "class  Map_transform():\n",
    "    def __init__(self, imp_dict):\n",
    "        self.alpha = None\n",
    "        self.beta = None\n",
    "        self.mixed = None\n",
    "        self.dict = imp_dict\n",
    "        \n",
    "    def transform(self, def_map):       \n",
    "        self.alpha = np.ma.array(def_map, mask=self.dict['alpha'])\n",
    "        self.beta = np.ma.array(def_map, mask=self.dict['beta']) \n",
    "        self.mixed = np.ma.array(def_map, mask=self.dict['mixed'])"
   ]
  },
  {
   "cell_type": "code",
   "execution_count": null,
   "metadata": {
    "collapsed": true
   },
   "outputs": [],
   "source": []
  },
  {
   "cell_type": "markdown",
   "metadata": {},
   "source": [
    "# Load in DIC and EBSD map"
   ]
  },
  {
   "cell_type": "markdown",
   "metadata": {},
   "source": [
    "### 05-Macro-1Ks"
   ]
  },
  {
   "cell_type": "code",
   "execution_count": 2,
   "metadata": {},
   "outputs": [
    {
     "name": "stdout",
     "output_type": "stream",
     "text": [
      "Loaded DaVis 8.4.0 data (dimensions: 895 x 783 pixels, sub-window size: 24 x 24 pixels)\n",
      "Loaded DaVis 8.4.0 data (dimensions: 895 x 783 pixels, sub-window size: 24 x 24 pixels)\n",
      "Loaded DaVis 8.4.0 data (dimensions: 895 x 783 pixels, sub-window size: 24 x 24 pixels)\n",
      "Loaded DaVis 8.4.0 data (dimensions: 895 x 783 pixels, sub-window size: 24 x 24 pixels)\n",
      "Loaded DaVis 8.4.0 data (dimensions: 895 x 783 pixels, sub-window size: 24 x 24 pixels)\n",
      "Loaded DaVis 8.4.0 data (dimensions: 895 x 783 pixels, sub-window size: 24 x 24 pixels)\n"
     ]
    }
   ],
   "source": [
    "DicFilePath_5AI = \"../Data/05 - MO/Output/\"\n",
    "DicMap_5AI_70 = hrdic.Map(DicFilePath_5AI, \"B00001.txt\")\n",
    "DicMap_5AI_80 = hrdic.Map(DicFilePath_5AI, \"B00002.txt\")\n",
    "DicMap_5AI_90 = hrdic.Map(DicFilePath_5AI, \"B00003.txt\")\n",
    "\n",
    "scale_factor_5AI = 30 / 2048 *24\n",
    "\n",
    "DicMap_5AI_70.setScale(micrometrePerPixel=scale_factor_5AI)\n",
    "DicMap_5AI_80.setScale(micrometrePerPixel=scale_factor_5AI)\n",
    "DicMap_5AI_90.setScale(micrometrePerPixel=scale_factor_5AI)\n",
    "\n",
    "DicMap_5AI_70.setPatternPath('BSE - 24x24.bmp',1)\n",
    "DicMap_5AI_80.setPatternPath('BSE - 24x24.bmp',1)\n",
    "DicMap_5AI_90.setPatternPath('BSE - 24x24.bmp',1)\n",
    "\n",
    "#DicMap_5AI_70.DicFilePath_5AI = \"../Data/05 - MO/Output/\"\n",
    "DicMap_5AI_70 = hrdic.Map(DicFilePath_5AI, \"B00001.txt\")\n",
    "DicMap_5AI_80 = hrdic.Map(DicFilePath_5AI, \"B00002.txt\")\n",
    "DicMap_5AI_90 = hrdic.Map(DicFilePath_5AI, \"B00003.txt\")\n",
    "\n",
    "scale_factor_5AI = 30 / 2048 *24\n",
    "\n",
    "DicMap_5AI_70.setScale(micrometrePerPixel=scale_factor_5AI)\n",
    "DicMap_5AI_80.setScale(micrometrePerPixel=scale_factor_5AI)\n",
    "DicMap_5AI_90.setScale(micrometrePerPixel=scale_factor_5AI)\n",
    "\n",
    "DicMap_5AI_70.setPatternPath('BSE - 24x24.bmp',1)\n",
    "DicMap_5AI_80.setPatternPath('BSE - 24x24.bmp',1)\n",
    "DicMap_5AI_90.setPatternPath('BSE - 24x24.bmp',1)\n",
    "\n",
    "DicMap_5AI_70.setCrop(xMin=5, xMax=25, yMin=5, yMax=5)\n",
    "DicMap_5AI_80.setCrop(xMin=5, xMax=25, yMin=5, yMax=5)\n",
    "DicMap_5AI_90.setCrop(xMin=5, xMax=25, yMin=5, yMax=5)\n"
   ]
  },
  {
   "cell_type": "code",
   "execution_count": 3,
   "metadata": {
    "collapsed": true
   },
   "outputs": [],
   "source": [
    "DicMap_5AI_70.plotMaxShear(vmin=0,vmax=0.05)"
   ]
  },
  {
   "cell_type": "code",
   "execution_count": 3,
   "metadata": {},
   "outputs": [
    {
     "name": "stdout",
     "output_type": "stream",
     "text": [
      "Loaded EBSD data (dimensions: 288 x 214 pixels, step size: 1.5 um)\n",
      "Calculating grain average Schmid factors...\r"
     ]
    }
   ],
   "source": [
    "#Load in EBSD map and calculate misorientation\n",
    "EbsdFilePath_5AI = \"../Data/05 - MO/Output/EBSD/Sample 5 sub - cp\"\n",
    "\n",
    "Ebsd_5AI = ebsd.Map(EbsdFilePath_5AI, \"hexagonal\")\n",
    "Ebsd_5AI.loadSlipSystems(filepath=\"defdap/slip_systems/hexagonal_withca.txt\", cOverA=1.54)\n",
    "Ebsd_5AI.binData = Ebsd_5AI.binData[::-1]  #rotate the map 180 degrees\n",
    "Ebsd_5AI.buildQuatArray()\n",
    "Ebsd_5AI.findBoundaries(boundDef = 10)\n",
    "Ebsd_5AI.findGrains(minGrainSize=50)\n",
    "Ebsd_5AI.calcGrainMisOri(calcAxis = True)    #This line takes about 20 minutes to run but is \n",
    "                                            #required to display misorientaion\n",
    "#EbsdMap.calcGrainAvOris()   #If you don't run the misoriatation calculation you need to run this instead.\n",
    "                            #It takes awhile aswell but not as long as the above\n",
    "    \n",
    "Ebsd_5AI.calcAverageGrainSchmidFactors(loadVector=np.array([1, 0, 0])) "
   ]
  },
  {
   "cell_type": "code",
   "execution_count": 4,
   "metadata": {
    "collapsed": true
   },
   "outputs": [],
   "source": [
    "#Ebsd_5AI.setHomogPoint()\n",
    "#DicMap_5AI_70.setHomogPoint(display='pattern')"
   ]
  },
  {
   "cell_type": "code",
   "execution_count": 8,
   "metadata": {},
   "outputs": [],
   "source": [
    "Ebsd_5AI.plotBandContrastMap()"
   ]
  },
  {
   "cell_type": "code",
   "execution_count": 4,
   "metadata": {},
   "outputs": [
    {
     "name": "stdout",
     "output_type": "stream",
     "text": [
      "Linking EBSD <-> DIC...\r",
      "Linking EBSD <-> DIC...\r",
      "Linking EBSD <-> DIC...\r"
     ]
    }
   ],
   "source": [
    "ebsd_homog = np.array (((156, 42), (148, 66), (229, 101), (73, 22), (83, 119), (137, 132), (218, 120)\n",
    "                      ))\n",
    "\n",
    "\n",
    "\n",
    "DIC_homog = np.array ((\n",
    "    (507, 105),(477, 215),(819, 360),(155, 26),(199, 482),(428, 529),(771, 457)\n",
    "    ))\n",
    "\n",
    "\n",
    "\n",
    "\n",
    "Ebsd_5AI.homogPoints = ebsd_homog\n",
    "DicMap_5AI_70.homogPoints = DIC_homog\n",
    "DicMap_5AI_80.homogPoints = DIC_homog\n",
    "DicMap_5AI_90.homogPoints = DIC_homog\n",
    "\n",
    "DicMap_5AI_70.linkEbsdMap(Ebsd_5AI)\n",
    "DicMap_5AI_80.linkEbsdMap(Ebsd_5AI)\n",
    "DicMap_5AI_90.linkEbsdMap(Ebsd_5AI)"
   ]
  },
  {
   "cell_type": "code",
   "execution_count": null,
   "metadata": {
    "collapsed": true
   },
   "outputs": [],
   "source": []
  },
  {
   "cell_type": "code",
   "execution_count": 8,
   "metadata": {
    "collapsed": true
   },
   "outputs": [],
   "source": [
    "DicMap_5AI_90.plotMaxShear(plotGBs=True, vmax=0.05)"
   ]
  },
  {
   "cell_type": "code",
   "execution_count": null,
   "metadata": {
    "collapsed": true
   },
   "outputs": [],
   "source": [
    "Ebsd_5AI.plotBoundaryMap()\n",
    "plt.scatter(x=Ebsd_5AI.homogPoints[:, 0], y=Ebsd_5AI.homogPoints[:, 1], c='y', s=60)"
   ]
  },
  {
   "cell_type": "code",
   "execution_count": null,
   "metadata": {
    "collapsed": true
   },
   "outputs": [],
   "source": []
  },
  {
   "cell_type": "code",
   "execution_count": null,
   "metadata": {
    "collapsed": true
   },
   "outputs": [],
   "source": []
  },
  {
   "cell_type": "code",
   "execution_count": null,
   "metadata": {
    "collapsed": true
   },
   "outputs": [],
   "source": []
  },
  {
   "cell_type": "code",
   "execution_count": null,
   "metadata": {
    "collapsed": true
   },
   "outputs": [],
   "source": [
    "ab_map_5AI=io.imread('../Data/05 - MO/Output/BSE - 24x24 - ab.bmp')\n",
    "#ab_boundary_map_5AI=io.imread('../Data/5AII-macro-oil-24x/Output/ab-grain-selection/5-manual grain selection-48x48-boundaries.bmp')\n",
    "bseImage_5AI = plt.imread('../Data/05 - MO/Output/BSE - 24x24.bmp')\n",
    "\n",
    "#ab_boundary_map_5AI = ab_boundary_map_5AI[:,40:-23]\n",
    "ab_map_5AI = ab_map_5AI[5:-6,5:-30]\n",
    "bseImage_5AI = bseImage_5AI[5:-6,5:-30]\n",
    "\n",
    "crop_5AI_max_070 = DicMap_5AI_70.max_shear[5:-5,5:-25]\n",
    "crop_5AI_max_080 = DicMap_5AI_80.max_shear[5:-5,5:-25]\n",
    "crop_5AI_max_090 = DicMap_5AI_90.max_shear[5:-5,5:-25]\n",
    "\n",
    "#print(np.shape(crop_5AI_max_070), np.shape(ab_map_5AI))"
   ]
  },
  {
   "cell_type": "code",
   "execution_count": null,
   "metadata": {
    "collapsed": true
   },
   "outputs": [],
   "source": [
    "ab_5AI_a_70_max = np.ma.filled(np.ma.array(crop_5AI_max_070, mask=(ab_map_5AI>1)),np.nan)\n",
    "ab_5AI_b_70_max = np.ma.filled(np.ma.array(crop_5AI_max_070, mask=(ab_map_5AI<1)),np.nan)\n",
    "\n",
    "ab_5AI_a_80_max = np.ma.filled(np.ma.array(crop_5AI_max_080, mask=(ab_map_5AI>1)),np.nan)\n",
    "ab_5AI_b_80_max = np.ma.filled(np.ma.array(crop_5AI_max_080, mask=(ab_map_5AI<1)),np.nan)\n",
    "\n",
    "ab_5AI_a_90_max = np.ma.filled(np.ma.array(crop_5AI_max_090, mask=(ab_map_5AI>1)),np.nan)\n",
    "ab_5AI_b_90_max = np.ma.filled(np.ma.array(crop_5AI_max_090, mask=(ab_map_5AI<1)),np.nan)"
   ]
  },
  {
   "cell_type": "code",
   "execution_count": null,
   "metadata": {
    "collapsed": true
   },
   "outputs": [],
   "source": [
    "DicMap_5AI_70.plotMaxShear(plotGBs=True, vmax=0.02)"
   ]
  },
  {
   "cell_type": "code",
   "execution_count": null,
   "metadata": {
    "collapsed": true
   },
   "outputs": [],
   "source": [
    "#hist = np.histogram(ab_5AI_b_70_max, bins=150, range=(0,0.20), normed=True)\n",
    "\n",
    "\n",
    "#i=0\n",
    "#for h in hist[0]:\n",
    "#    print(hist[0][i])\n",
    "#    i += 1"
   ]
  },
  {
   "cell_type": "code",
   "execution_count": null,
   "metadata": {
    "collapsed": true
   },
   "outputs": [],
   "source": [
    "xy=np.invert(ab_map_5AI)\n",
    "io.imshow(ab_map_5AI)"
   ]
  },
  {
   "cell_type": "code",
   "execution_count": null,
   "metadata": {
    "collapsed": true
   },
   "outputs": [],
   "source": [
    "#weights = ab_map_5AI\n",
    "\n",
    "#weights = np.invert(ab_map_5AI)\n",
    "\n",
    "#a = np.histogram(crop_5AI_max_070, bins=100, range=(0,0.2), weights=weights, normed=True)\n",
    "\n",
    "#i=0\n",
    "#for ind in a[0]:\n",
    "#    print(a[0][i])\n",
    "#    i += 1"
   ]
  },
  {
   "cell_type": "code",
   "execution_count": null,
   "metadata": {
    "collapsed": true,
    "scrolled": true
   },
   "outputs": [],
   "source": [
    "output(ab_5AI_a_80_max, 0.20)"
   ]
  },
  {
   "cell_type": "code",
   "execution_count": null,
   "metadata": {
    "collapsed": true
   },
   "outputs": [],
   "source": [
    "the_map = crop_5AI_max_090\n",
    "\n",
    "print(np.mean(the_map))\n",
    "print(np.percentile(the_map, 99))\n",
    "print(np.percentile(the_map, 98))\n",
    "print(np.percentile(the_map, 95))\n",
    "print(np.percentile(the_map, 90))"
   ]
  },
  {
   "cell_type": "code",
   "execution_count": null,
   "metadata": {
    "collapsed": true
   },
   "outputs": [],
   "source": [
    "calc_mask_val(ab_5AI_a_70_max)\n",
    "calc_mask_val(ab_5AI_b_70_max)\n",
    "calc_mask_val(ab_5AI_a_80_max)\n",
    "calc_mask_val(ab_5AI_b_80_max)\n",
    "calc_mask_val(ab_5AI_a_90_max)\n",
    "calc_mask_val(ab_5AI_b_90_max)\n",
    "\n"
   ]
  },
  {
   "cell_type": "code",
   "execution_count": null,
   "metadata": {
    "collapsed": true
   },
   "outputs": [],
   "source": []
  },
  {
   "cell_type": "code",
   "execution_count": null,
   "metadata": {
    "collapsed": true
   },
   "outputs": [],
   "source": [
    "#the_map = DicMap_5AI_70.f22\n",
    "\n",
    "#print(np.mean(the_map))\n",
    "#print(np.percentile(the_map, 99))\n",
    "#print(np.percentile(the_map, 98))\n",
    "#print(np.percentile(the_map, 95))\n",
    "#print(np.percentile(the_map, 90))"
   ]
  },
  {
   "cell_type": "code",
   "execution_count": null,
   "metadata": {
    "collapsed": true
   },
   "outputs": [],
   "source": []
  },
  {
   "cell_type": "markdown",
   "metadata": {},
   "source": [
    "### 06-Macro-1Ks"
   ]
  },
  {
   "cell_type": "code",
   "execution_count": 5,
   "metadata": {},
   "outputs": [
    {
     "name": "stdout",
     "output_type": "stream",
     "text": [
      "Loaded DaVis 8.4.0 data (dimensions: 568 x 556 pixels, sub-window size: 24 x 24 pixels)\n",
      "Loaded DaVis 8.4.0 data (dimensions: 568 x 556 pixels, sub-window size: 24 x 24 pixels)\n",
      "Loaded DaVis 8.4.0 data (dimensions: 568 x 556 pixels, sub-window size: 24 x 24 pixels)\n",
      "Loaded DaVis 8.4.0 data (dimensions: 568 x 556 pixels, sub-window size: 24 x 24 pixels)\n"
     ]
    }
   ],
   "source": [
    "#Load in DIC map\n",
    "DicFilePath_6AII = \"../Data/06 - M1Ks/Output/\"\n",
    "DicMap_6AII_070 = hrdic.Map(DicFilePath_6AII, \"B00001.txt\")\n",
    "DicMap_6AII_080 = hrdic.Map(DicFilePath_6AII, \"B00002.txt\")\n",
    "DicMap_6AII_090 = hrdic.Map(DicFilePath_6AII, \"B00003.txt\")\n",
    "DicMap_6AII_100 = hrdic.Map(DicFilePath_6AII, \"B00004.txt\")\n",
    "\n",
    "scale_factor_6AII = 30 / 2048 *24\n",
    "\n",
    "DicMap_6AII_070.setScale(micrometrePerPixel=scale_factor_6AII)\n",
    "DicMap_6AII_080.setScale(micrometrePerPixel=scale_factor_6AII)\n",
    "DicMap_6AII_090.setScale(micrometrePerPixel=scale_factor_6AII)\n",
    "\n",
    "DicMap_6AII_070.setPatternPath('BSE - 24x24.bmp',1)\n",
    "DicMap_6AII_080.setPatternPath('BSE - 24x24.bmp',1)\n",
    "DicMap_6AII_090.setPatternPath('BSE - 24x24.bmp',1)\n",
    "\n",
    "DicMap_6AII_070.setCrop(xMin=10, xMax=40, yMin=100, yMax=15)\n",
    "DicMap_6AII_080.setCrop(xMin=10, xMax=40, yMin=100, yMax=15)\n",
    "DicMap_6AII_090.setCrop(xMin=10, xMax=40, yMin=100, yMax=15)"
   ]
  },
  {
   "cell_type": "code",
   "execution_count": 15,
   "metadata": {
    "collapsed": true
   },
   "outputs": [],
   "source": [
    "DicMap_6AII_090.plotMaxShear(plotGBs=True, vmax=0.05)"
   ]
  },
  {
   "cell_type": "code",
   "execution_count": null,
   "metadata": {
    "collapsed": true
   },
   "outputs": [],
   "source": []
  },
  {
   "cell_type": "code",
   "execution_count": 6,
   "metadata": {},
   "outputs": [
    {
     "name": "stdout",
     "output_type": "stream",
     "text": [
      "Loading EBSD data...Error with cpr file. Number of phases mismatch.\n",
      "Loaded EBSD data (dimensions: 649 x 679 pixels, step size: 0.75 um)\n",
      "Calculating grain average Schmid factors...\r"
     ]
    }
   ],
   "source": [
    "#Load in EBSD map and calculate misorientation\n",
    "EbsdFilePath_6AII = \"../Data/06 - M1Ks/Output/EBSD/Ti834_5AI-4-_s1_DIC-cropped\"\n",
    "\n",
    "Ebsd_6AII = ebsd.Map(EbsdFilePath_6AII, \"hexagonal\")\n",
    "Ebsd_6AII.loadSlipSystems(filepath=\"defdap/slip_systems/hexagonal_withca.txt\", cOverA=1.54)\n",
    "#Ebsd_6AII.binData = Ebsd_6AII.binData[::-1]  #rotate the map 180 degrees\n",
    "Ebsd_6AII.buildQuatArray()\n",
    "Ebsd_6AII.findBoundaries(boundDef = 10)\n",
    "Ebsd_6AII.findGrains(minGrainSize=50)\n",
    "Ebsd_6AII.calcGrainMisOri(calcAxis = True)    #This line takes about 20 minutes to run but is \n",
    "                                            #required to display misorientaion\n",
    "#EbsdMap.calcGrainAvOris()   #If you don't run the misoriatation calculation you need to run this instead.\n",
    "                            #It takes awhile aswell but not as long as the above\n",
    "    \n",
    "Ebsd_6AII.calcAverageGrainSchmidFactors(loadVector=np.array([1, 0, 0])) "
   ]
  },
  {
   "cell_type": "code",
   "execution_count": 4,
   "metadata": {
    "collapsed": true
   },
   "outputs": [],
   "source": [
    "#Ebsd_6AII.setHomogPoint()\n",
    "#DicMap_6AII_070.setHomogPoint(display='pattern')"
   ]
  },
  {
   "cell_type": "code",
   "execution_count": 6,
   "metadata": {},
   "outputs": [
    {
     "data": {
      "text/plain": [
       "[(389, 390), (26, 241), (164, 356), (157, 241), (172, 115), (468, 91)]"
      ]
     },
     "execution_count": 6,
     "metadata": {},
     "output_type": "execute_result"
    }
   ],
   "source": [
    "#DicMap_6AII_070.homogPoints"
   ]
  },
  {
   "cell_type": "code",
   "execution_count": 7,
   "metadata": {},
   "outputs": [
    {
     "name": "stdout",
     "output_type": "stream",
     "text": [
      "Linking EBSD <-> DIC...\r",
      "Linking EBSD <-> DIC...\r",
      "Linking EBSD <-> DIC...\r"
     ]
    }
   ],
   "source": [
    "ebsd_homog = np.array((\n",
    "    (473, 581), (156, 461), (268, 531), (267, 460), (277, 348), (533, 320)\n",
    "    ))\n",
    "\n",
    "\n",
    "DIC_homog = np.array((\n",
    "    (389, 390), (26, 241), (164, 356), (157, 241), (172, 115), (468, 91)\n",
    "    ))\n",
    "\n",
    "Ebsd_6AII.homogPoints = ebsd_homog\n",
    "DicMap_6AII_070.homogPoints = DIC_homog\n",
    "DicMap_6AII_080.homogPoints = DIC_homog\n",
    "DicMap_6AII_090.homogPoints = DIC_homog\n",
    "\n",
    "DicMap_6AII_070.linkEbsdMap(Ebsd_6AII)\n",
    "DicMap_6AII_080.linkEbsdMap(Ebsd_6AII)\n",
    "DicMap_6AII_090.linkEbsdMap(Ebsd_6AII)"
   ]
  },
  {
   "cell_type": "code",
   "execution_count": 9,
   "metadata": {
    "collapsed": true
   },
   "outputs": [],
   "source": [
    "DicMap_6AII_090.plotMaxShear(plotGBs=True, vmax=0.02)"
   ]
  },
  {
   "cell_type": "code",
   "execution_count": null,
   "metadata": {
    "collapsed": true
   },
   "outputs": [],
   "source": [
    "ab_map_6AII=io.imread('../Data/06 - M1Ks/Output/BSE - 24x24 - ab.bmp')\n",
    "#ab_boundary_map_6AII=io.imread('../Data/6AII-1Ks-16x/Output/ab-grain-selection/macro_1ks_ab_boundary.bmp')\n",
    "bseImage_6AII = plt.imread('../Data/06 - M1Ks/Output/BSE - 24x24 - ab.bmp')\n",
    "\n",
    "ab_map_6AII = ab_map_6AII[100:-21,10:-46]\n",
    "#ab_boundary_map_6AII = ab_boundary_map_6AII[200:-27,190:-61]\n",
    "bseImage_6AII = bseImage_6AII[100:-21,10:-46]\n",
    "\n",
    "crop_6AII_max_070 = DicMap_6AII_070.max_shear[100:-20,10:-40]\n",
    "crop_6AII_max_080 = DicMap_6AII_080.max_shear[100:-20,10:-40]\n",
    "crop_6AII_max_090 = DicMap_6AII_090.max_shear[100:-20,10:-40]\n",
    "\n",
    "#print(np.shape(ab_map_6AII), np.shape(crop_6AII_max_070))"
   ]
  },
  {
   "cell_type": "code",
   "execution_count": null,
   "metadata": {
    "collapsed": true
   },
   "outputs": [],
   "source": [
    "ab_6AII_a_70_max = np.ma.filled(np.ma.array(crop_6AII_max_070, mask=(ab_map_6AII>1)),np.nan)\n",
    "ab_6AII_b_70_max = np.ma.filled(np.ma.array(crop_6AII_max_070, mask=(ab_map_6AII<1)),np.nan)\n",
    "\n",
    "ab_6AII_a_80_max = np.ma.filled(np.ma.array(crop_6AII_max_080, mask=(ab_map_6AII>1)),np.nan)\n",
    "ab_6AII_b_80_max = np.ma.filled(np.ma.array(crop_6AII_max_080, mask=(ab_map_6AII<1)),np.nan)\n",
    "\n",
    "ab_6AII_a_90_max = np.ma.filled(np.ma.array(crop_6AII_max_090, mask=(ab_map_6AII>1)),np.nan)\n",
    "ab_6AII_b_90_max = np.ma.filled(np.ma.array(crop_6AII_max_090, mask=(ab_map_6AII<1)),np.nan)"
   ]
  },
  {
   "cell_type": "code",
   "execution_count": null,
   "metadata": {
    "collapsed": true
   },
   "outputs": [],
   "source": [
    "hist = np.histogram(ab_6AII_b_90_max, bins=100, range=(0,0.1), normed=True)\n",
    "\n",
    "\n",
    "i=0\n",
    "for h in hist[0]:\n",
    "    print(hist[0][i])\n",
    "    i += 1"
   ]
  },
  {
   "cell_type": "code",
   "execution_count": null,
   "metadata": {
    "collapsed": true
   },
   "outputs": [],
   "source": [
    "output(ab_6AII_b_90_max, 0.20)"
   ]
  },
  {
   "cell_type": "code",
   "execution_count": null,
   "metadata": {
    "collapsed": true
   },
   "outputs": [],
   "source": [
    "#calc_mask_val(ab_6AII_a_70_max)\n",
    "#calc_mask_val(ab_6AII_b_70_max)\n",
    "#calc_mask_val(ab_6AII_a_80_max)\n",
    "#calc_mask_val(ab_6AII_b_80_max)\n",
    "#calc_mask_val(ab_6AII_a_90_max)\n",
    "#calc_mask_val(ab_6AII_b_90_max)\n",
    "\n",
    "the_map = crop_6AII_max_090\n",
    "\n",
    "print(np.mean(the_map))\n",
    "print(np.percentile(the_map, 99))\n",
    "print(np.percentile(the_map, 98))\n",
    "print(np.percentile(the_map, 95))\n",
    "print(np.percentile(the_map, 90))"
   ]
  },
  {
   "cell_type": "code",
   "execution_count": null,
   "metadata": {
    "collapsed": true
   },
   "outputs": [],
   "source": [
    "io.imshow(ab_map_6AII)"
   ]
  },
  {
   "cell_type": "code",
   "execution_count": null,
   "metadata": {
    "collapsed": true
   },
   "outputs": [],
   "source": [
    "\n",
    "ab_6AII_a_70_max = np.ma.array(crop_6AII_max_070, mask=(ab_map_6AII<1))\n"
   ]
  },
  {
   "cell_type": "code",
   "execution_count": null,
   "metadata": {
    "collapsed": true
   },
   "outputs": [],
   "source": [
    "fig= plt.figure(figsize=(10,10))\n",
    "plt.imshow(ab_6AII_a_70_max,cmap='viridis',vmin=0,vmax=0.05);\n",
    "plt.tick_params(axis='both', which='both', bottom='off', top='off', labelbottom='off', right='off', left='off', labelleft='off')\n",
    "cbar = plt.colorbar(pad=0.01)\n",
    "cbar.set_label(label=\"$\\gamma_{eff}$\",size=40)\n",
    "cbar.ax.tick_params(labelsize=20)"
   ]
  },
  {
   "cell_type": "code",
   "execution_count": null,
   "metadata": {
    "collapsed": true
   },
   "outputs": [],
   "source": [
    "the_map = crop_6AII_max_090\n",
    "\n",
    "print(np.mean(the_map))\n",
    "print(np.percentile(the_map, 99))\n",
    "print(np.percentile(the_map, 98))\n",
    "print(np.percentile(the_map, 95))\n",
    "print(np.percentile(the_map, 90))"
   ]
  },
  {
   "cell_type": "code",
   "execution_count": null,
   "metadata": {
    "collapsed": true
   },
   "outputs": [],
   "source": [
    "io.imshow(ab_5AI_a_70_max)\n"
   ]
  },
  {
   "cell_type": "code",
   "execution_count": null,
   "metadata": {
    "collapsed": true
   },
   "outputs": [],
   "source": [
    "DicMap_6AII_070.plotMaxShear()"
   ]
  },
  {
   "cell_type": "markdown",
   "metadata": {},
   "source": [
    "### 11-NO-1Ks"
   ]
  },
  {
   "cell_type": "code",
   "execution_count": 9,
   "metadata": {},
   "outputs": [
    {
     "name": "stdout",
     "output_type": "stream",
     "text": [
      "Loaded DaVis 8.4.0 data (dimensions: 887 x 782 pixels, sub-window size: 24 x 24 pixels)\n",
      "Loaded DaVis 8.4.0 data (dimensions: 887 x 782 pixels, sub-window size: 24 x 24 pixels)\n",
      "Loaded DaVis 8.4.0 data (dimensions: 887 x 782 pixels, sub-window size: 24 x 24 pixels)\n"
     ]
    }
   ],
   "source": [
    "#Load in DIC map\n",
    "DicFilePath_6AII_bin = \"../Data/11 - N1Ks/Output/\"\n",
    "DicMap_11_70 = hrdic.Map(DicFilePath_6AII_bin, \"B00001.txt\")\n",
    "DicMap_11_80 = hrdic.Map(DicFilePath_6AII_bin, \"B00002.txt\")\n",
    "DicMap_11_90 = hrdic.Map(DicFilePath_6AII_bin, \"B00003.txt\")\n",
    "\n",
    "scale_factor_11 = 30 / 2048 * 24\n",
    "\n",
    "DicMap_11_70.setScale(micrometrePerPixel=scale_factor_11)\n",
    "DicMap_11_80.setScale(micrometrePerPixel=scale_factor_11)\n",
    "DicMap_11_90.setScale(micrometrePerPixel=scale_factor_11)\n",
    "\n",
    "DicMap_11_70.setPatternPath('BSE - 24x24.bmp',1)\n",
    "DicMap_11_80.setPatternPath('BSE - 24x24.bmp',1)\n",
    "DicMap_11_90.setPatternPath('BSE - 24x24.bmp',1)\n",
    "\n",
    "DicMap_11_70.setCrop(xMin=75, xMax=10, yMin=5, yMax=10)\n",
    "DicMap_11_80.setCrop(xMin=75, xMax=10, yMin=5, yMax=10)\n",
    "DicMap_11_90.setCrop(xMin=75, xMax=10, yMin=5, yMax=10)"
   ]
  },
  {
   "cell_type": "code",
   "execution_count": 7,
   "metadata": {
    "collapsed": true
   },
   "outputs": [],
   "source": [
    "DicMap_11_90.plotMaxShear(vmax=0.03)"
   ]
  },
  {
   "cell_type": "code",
   "execution_count": 2,
   "metadata": {},
   "outputs": [
    {
     "name": "stdout",
     "output_type": "stream",
     "text": [
      "Loading EBSD data...Error with cpr file. Number of phases mismatch.\n",
      "Loaded EBSD data (dimensions: 604 x 454 pixels, step size: 0.75 um)\n",
      "Calculating grain average Schmid factors...\r"
     ]
    }
   ],
   "source": [
    "#Load in EBSD map and calculate misorientation\n",
    "EbsdFilePath_11 = \"../Data/11 - N1Ks/Output/EBSD/in-situ-11-ebsd 075um - cleaned\"\n",
    "\n",
    "Ebsd_11_bin = ebsd.Map(EbsdFilePath_11, \"hexagonal\")\n",
    "Ebsd_11_bin.loadSlipSystems(filepath=\"defdap/slip_systems/hexagonal_withca.txt\", cOverA=1.54)\n",
    "#Ebsd_11.binData = Ebsd_11.binData[::-1]  #rotate the map 180 degrees\n",
    "Ebsd_11_bin.buildQuatArray()\n",
    "Ebsd_11_bin.findBoundaries(boundDef = 10)\n",
    "Ebsd_11_bin.findGrains(minGrainSize=50)\n",
    "Ebsd_11_bin.calcGrainMisOri(calcAxis = True)    #This line takes about 20 minutes to run but is \n",
    "                                            #required to display misorientaion\n",
    "#EbsdMap.calcGrainAvOris()   #If you don't run the misoriatation calculation you need to run this instead.\n",
    "                            #It takes awhile aswell but not as long as the above\n",
    "    \n",
    "Ebsd_11_bin.calcAverageGrainSchmidFactors(loadVector=np.array([1, 0, 0]))   "
   ]
  },
  {
   "cell_type": "code",
   "execution_count": 11,
   "metadata": {
    "collapsed": true
   },
   "outputs": [],
   "source": [
    "Ebsd_11_bin.setHomogPoint()\n",
    "DicMap_11_90.setHomogPoint(display='pattern')\n"
   ]
  },
  {
   "cell_type": "code",
   "execution_count": 15,
   "metadata": {},
   "outputs": [
    {
     "data": {
      "text/plain": [
       "[(409, 255),\n",
       " (378, 286),\n",
       " (264, 276),\n",
       " (243, 150),\n",
       " (428, 56),\n",
       " (481, 145),\n",
       " (315, 162),\n",
       " (347, 129),\n",
       " (420, 226)]"
      ]
     },
     "execution_count": 15,
     "metadata": {},
     "output_type": "execute_result"
    }
   ],
   "source": [
    "Ebsd_11_bin.homogPoints"
   ]
  },
  {
   "cell_type": "code",
   "execution_count": 17,
   "metadata": {},
   "outputs": [
    {
     "name": "stdout",
     "output_type": "stream",
     "text": [
      "Linking EBSD <-> DIC...\r",
      "Linking EBSD <-> DIC...\r",
      "Linking EBSD <-> DIC...\r"
     ]
    }
   ],
   "source": [
    "ebsd_homog = np.array((\n",
    "    (409, 255),(378, 286),(264, 276),(243, 150),(428, 56),(481, 145),(315, 162),(347, 129),(420, 226)\n",
    "    ))\n",
    "\n",
    "\n",
    "DIC_homog = np.array((\n",
    "    (525, 490),(448, 549),(201, 498),(182, 218),(609, 52),(708, 264),(337, 261),(414, 195),(555, 431)\n",
    "    ))\n",
    "\n",
    "Ebsd_11_bin.homogPoints = ebsd_homog\n",
    "DicMap_11_70.homogPoints = DIC_homog\n",
    "DicMap_11_80.homogPoints = DIC_homog\n",
    "DicMap_11_90.homogPoints = DIC_homog\n",
    "\n",
    "DicMap_11_70.linkEbsdMap(Ebsd_11_bin)\n",
    "DicMap_11_80.linkEbsdMap(Ebsd_11_bin)\n",
    "DicMap_11_90.linkEbsdMap(Ebsd_11_bin)"
   ]
  },
  {
   "cell_type": "code",
   "execution_count": 19,
   "metadata": {
    "collapsed": true
   },
   "outputs": [],
   "source": [
    "DicMap_11_80.plotMaxShear(plotGBs=True, vmax=0.05)"
   ]
  },
  {
   "cell_type": "code",
   "execution_count": null,
   "metadata": {
    "collapsed": true
   },
   "outputs": [],
   "source": [
    "ab_map_11=io.imread('../Data/11 - N1Ks/Output/BSE - 24x24 - ab.bmp')\n",
    "#ab_boundary_map_6AII=io.imread('../Data/6AII-1Ks-16x/Output/ab-grain-selection/macro_1ks_ab_boundary.bmp')\n",
    "bseImage_11 = plt.imread('../Data/11 - N1Ks/Output/BSE - 24x24.bmp')\n",
    "\n",
    "ab_map_11 = ab_map_11[5:-11,75:-15]\n",
    "#ab_boundary_map_6AII = ab_boundary_map_6AII[200:-27,190:-61]\n",
    "bseImage_11 = bseImage_11[5:-11,75:-15]\n",
    "\n",
    "crop_11_max_070 = DicMap_11_70.max_shear[5:-10,75:-10]\n",
    "crop_11_max_080 = DicMap_11_80.max_shear[5:-10,75:-10]\n",
    "crop_11_max_090 = DicMap_11_90.max_shear[5:-10,75:-10]\n",
    "\n",
    "print(np.shape(ab_map_11), np.shape(crop_11_max_070))\n"
   ]
  },
  {
   "cell_type": "code",
   "execution_count": null,
   "metadata": {
    "collapsed": true
   },
   "outputs": [],
   "source": [
    "ab_11_a_70_max = np.ma.filled(np.ma.array(crop_11_max_070, mask=(ab_map_11>1)),np.nan)\n",
    "ab_11_b_70_max = np.ma.filled(np.ma.array(crop_11_max_070, mask=(ab_map_11<1)),np.nan)\n",
    "\n",
    "ab_11_a_80_max = np.ma.filled(np.ma.array(crop_11_max_080, mask=(ab_map_11>1)),np.nan)\n",
    "ab_11_b_80_max = np.ma.filled(np.ma.array(crop_11_max_080, mask=(ab_map_11<1)),np.nan)\n",
    "\n",
    "ab_11_a_90_max = np.ma.filled(np.ma.array(crop_11_max_090, mask=(ab_map_11>1)),np.nan)\n",
    "ab_11_b_90_max = np.ma.filled(np.ma.array(crop_11_max_090, mask=(ab_map_11<1)),np.nan)"
   ]
  },
  {
   "cell_type": "code",
   "execution_count": null,
   "metadata": {
    "collapsed": true
   },
   "outputs": [],
   "source": [
    "hist = np.histogram(ab_11_b_90_max, bins=150, range=(0,0.20), normed=True)\n",
    "\n",
    "\n",
    "i=0\n",
    "for h in hist[0]:\n",
    "    print(hist[0][i])\n",
    "    i += 1"
   ]
  },
  {
   "cell_type": "code",
   "execution_count": null,
   "metadata": {
    "collapsed": true
   },
   "outputs": [],
   "source": [
    "#output(ab_11_b_90_max, 0.20)"
   ]
  },
  {
   "cell_type": "code",
   "execution_count": null,
   "metadata": {
    "collapsed": true
   },
   "outputs": [],
   "source": []
  },
  {
   "cell_type": "code",
   "execution_count": null,
   "metadata": {
    "collapsed": true
   },
   "outputs": [],
   "source": [
    "#the_map = crop_11_max_090\n",
    "\n",
    "#print(np.mean(the_map))\n",
    "#print(np.percentile(the_map, 99))\n",
    "#print(np.percentile(the_map, 98))\n",
    "#print(np.percentile(the_map, 95))\n",
    "#print(np.percentile(the_map, 90))\n",
    "\n",
    "#calc_mask_val(ab_11_a_70_max)\n",
    "#calc_mask_val(ab_11_b_70_max)\n",
    "#calc_mask_val(ab_11_a_80_max)\n",
    "#calc_mask_val(ab_11_b_80_max)\n",
    "#calc_mask_val(ab_11_a_90_max)\n",
    "#calc_mask_val(ab_11_b_90_max)"
   ]
  },
  {
   "cell_type": "markdown",
   "metadata": {},
   "source": [
    "### 11-No-macro-1Ks   with unloading"
   ]
  },
  {
   "cell_type": "code",
   "execution_count": null,
   "metadata": {
    "collapsed": true
   },
   "outputs": [],
   "source": [
    "#Load in DIC map\n",
    "DicFilePath_11A = \"../Data/N1-11-repeated/Output/\"\n",
    "DicMap_11A_70 = hrdic.Map(DicFilePath_11A, \"N1-11-48x48 (1).txt\")\n",
    "DicMap_11A_70_un = hrdic.Map(DicFilePath_11A, \"N1-11-48x48 (2).txt\")\n",
    "DicMap_11A_80 = hrdic.Map(DicFilePath_11A, \"N1-11-48x48 (3).txt\")\n",
    "DicMap_11A_80_un = hrdic.Map(DicFilePath_11A, \"N1-11-48x48 (4).txt\")\n",
    "DicMap_11A_90 = hrdic.Map(DicFilePath_11A, \"N1-11-48x48 (5).txt\")\n",
    "\n",
    "scale_factor_6AII = 30 / 2048 *48\n",
    "\n",
    "DicMap_11A_70.setScale(micrometrePerPixel=scale_factor_6AII)\n",
    "DicMap_11A_70_un.setScale(micrometrePerPixel=scale_factor_6AII)\n",
    "DicMap_11A_80.setScale(micrometrePerPixel=scale_factor_6AII)\n",
    "DicMap_11A_80_un.setScale(micrometrePerPixel=scale_factor_6AII)\n",
    "DicMap_11A_90.setScale(micrometrePerPixel=scale_factor_6AII)\n",
    "\n",
    "DicMap_11A_70.setCrop(xMin=0, xMax=20, yMin=10, yMax=80)\n",
    "DicMap_11A_70_un.setCrop(xMin=0, xMax=20, yMin=10, yMax=80)\n",
    "DicMap_11A_80.setCrop(xMin=0, xMax=20, yMin=10, yMax=80)\n",
    "DicMap_11A_80_un.setCrop(xMin=0, xMax=20, yMin=10, yMax=80)\n",
    "DicMap_11A_90.setCrop(xMin=0, xMax=20, yMin=10, yMax=80)\n",
    "\n",
    "DicMap_11A_70.setPatternPath('BSE-images/B00001',4)\n",
    "DicMap_11A_70_un.setPatternPath('BSE-images/B00001',4)\n",
    "DicMap_11A_80.setPatternPath('BSE-images/B00001',4)\n",
    "DicMap_11A_80_un.setPatternPath('BSE-images/B00001',4)\n",
    "DicMap_11A_90.setPatternPath('BSE-images/B00001',4)"
   ]
  },
  {
   "cell_type": "code",
   "execution_count": null,
   "metadata": {
    "collapsed": true
   },
   "outputs": [],
   "source": [
    "DicMap_11A_80_un.plotMaxShear(vmax=0.1)"
   ]
  },
  {
   "cell_type": "code",
   "execution_count": null,
   "metadata": {
    "collapsed": true
   },
   "outputs": [],
   "source": [
    "DicMap_11A_70.plotMaxShear()"
   ]
  },
  {
   "cell_type": "markdown",
   "metadata": {},
   "source": [
    "### 12-No-No-macro-oil"
   ]
  },
  {
   "cell_type": "code",
   "execution_count": 19,
   "metadata": {},
   "outputs": [
    {
     "name": "stdout",
     "output_type": "stream",
     "text": [
      "Loaded DaVis 8.4.0 data (dimensions: 840 x 737 pixels, sub-window size: 24 x 24 pixels)\n",
      "Loaded DaVis 8.4.0 data (dimensions: 840 x 737 pixels, sub-window size: 24 x 24 pixels)\n",
      "Loaded DaVis 8.4.0 data (dimensions: 840 x 737 pixels, sub-window size: 24 x 24 pixels)\n"
     ]
    }
   ],
   "source": [
    "DicFilePath_12 =  \"../Data/12 - NO/Output/\"\n",
    "DicMap_12_70 = hrdic.Map(DicFilePath_12, \"B00001.txt\")\n",
    "DicMap_12_80 = hrdic.Map(DicFilePath_12, \"B00002.txt\")\n",
    "DicMap_12_90 = hrdic.Map(DicFilePath_12, \"B00003.txt\")\n",
    "\n",
    "scale_factor_12 = 30 / 2048 * 24\n",
    "\n",
    "DicMap_12_70.setScale(micrometrePerPixel=scale_factor_12)\n",
    "DicMap_12_80.setScale(micrometrePerPixel=scale_factor_12)\n",
    "DicMap_12_90.setScale(micrometrePerPixel=scale_factor_12)\n",
    "\n",
    "DicMap_12_70.setPatternPath('BSE - 24x24.bmp',1)\n",
    "DicMap_12_80.setPatternPath('BSE - 24x24.bmp',1)\n",
    "DicMap_12_90.setPatternPath('BSE - 24x24.bmp',1)\n",
    "\n",
    "DicMap_12_70.setCrop(xMin=13, xMax=80, yMin=62, yMax=5)\n",
    "DicMap_12_80.setCrop(xMin=13, xMax=80, yMin=62, yMax=5)\n",
    "DicMap_12_90.setCrop(xMin=13, xMax=80, yMin=62, yMax=5)"
   ]
  },
  {
   "cell_type": "code",
   "execution_count": 20,
   "metadata": {},
   "outputs": [
    {
     "name": "stdout",
     "output_type": "stream",
     "text": [
      "Loading EBSD data...Error with cpr file. Number of phases mismatch.\n",
      "Loaded EBSD data (dimensions: 500 x 400 pixels, step size: 2.9945 um)\n",
      "Calculating grain average Schmid factors...\r"
     ]
    }
   ],
   "source": [
    "#Load in EBSD map and calculate misorientation\n",
    "EbsdFilePath_12 = \"../Data/12 - NO/Output/EBSD/12-no-macro-oil\"\n",
    "\n",
    "Ebsd_12_bin = ebsd.Map(EbsdFilePath_12, \"hexagonal\")\n",
    "Ebsd_12_bin.loadSlipSystems(filepath=\"defdap/slip_systems/hexagonal_withca.txt\", cOverA=1.54)\n",
    "#Ebsd_6AII.binData = Ebsd_6AII.binData[::-1]  #rotate the map 180 degrees\n",
    "Ebsd_12_bin.buildQuatArray()\n",
    "Ebsd_12_bin.findBoundaries(boundDef = 10)\n",
    "Ebsd_12_bin.findGrains(minGrainSize=50)\n",
    "Ebsd_12_bin.calcGrainMisOri(calcAxis = True)    #This line takes about 20 minutes to run but is \n",
    "                                            #required to display misorientaion\n",
    "#EbsdMap.calcGrainAvOris()   #If you don't run the misoriatation calculation you need to run this instead.\n",
    "                            #It takes awhile aswell but not as long as the above\n",
    "    \n",
    "Ebsd_12_bin.calcAverageGrainSchmidFactors(loadVector=np.array([1, 0, 0]))   "
   ]
  },
  {
   "cell_type": "code",
   "execution_count": 21,
   "metadata": {
    "collapsed": true
   },
   "outputs": [],
   "source": [
    "Ebsd_12_bin.setHomogPoint()\n",
    "DicMap_12_70.setHomogPoint(display='pattern')"
   ]
  },
  {
   "cell_type": "code",
   "execution_count": 23,
   "metadata": {},
   "outputs": [
    {
     "data": {
      "text/plain": [
       "[(110, 290), (203, 242), (189, 186), (91, 316), (63, 332), (51, 283)]"
      ]
     },
     "execution_count": 23,
     "metadata": {},
     "output_type": "execute_result"
    }
   ],
   "source": [
    "Ebsd_12_bin.homogPoints"
   ]
  },
  {
   "cell_type": "code",
   "execution_count": 26,
   "metadata": {},
   "outputs": [
    {
     "name": "stdout",
     "output_type": "stream",
     "text": [
      "Linking EBSD <-> DIC...\r",
      "Linking EBSD <-> DIC...\r",
      "Linking EBSD <-> DIC...\r"
     ]
    }
   ],
   "source": [
    "ebsd_homog = np.array((\n",
    "    (110, 290), (203, 242), (189, 186), (91, 316), (63, 332), (51, 283)\n",
    "    ))\n",
    "(110, 290), (203, 242), (189, 186), (91, 316), (63, 332), (51, 283)\n",
    "\n",
    "DIC_homog = np.array((\n",
    "    (260, 413), (534, 258), (490, 64), (204, 499), (119, 547), (89, 390)\n",
    "    ))\n",
    "\n",
    "Ebsd_12_bin.homogPoints = ebsd_homog\n",
    "DicMap_12_70.homogPoints = DIC_homog\n",
    "DicMap_12_80.homogPoints = DIC_homog\n",
    "DicMap_12_90.homogPoints = DIC_homog\n",
    "\n",
    "DicMap_12_70.linkEbsdMap(Ebsd_12_bin)\n",
    "DicMap_12_80.linkEbsdMap(Ebsd_12_bin)\n",
    "DicMap_12_90.linkEbsdMap(Ebsd_12_bin)"
   ]
  },
  {
   "cell_type": "code",
   "execution_count": 31,
   "metadata": {
    "collapsed": true
   },
   "outputs": [],
   "source": [
    "DicMap_12_90.plotMaxShear(plotGBs=True, vmax=0.05)"
   ]
  },
  {
   "cell_type": "code",
   "execution_count": null,
   "metadata": {
    "collapsed": true
   },
   "outputs": [],
   "source": []
  },
  {
   "cell_type": "code",
   "execution_count": null,
   "metadata": {
    "collapsed": true
   },
   "outputs": [],
   "source": []
  },
  {
   "cell_type": "code",
   "execution_count": null,
   "metadata": {
    "collapsed": true
   },
   "outputs": [],
   "source": [
    "ab_map_12=io.imread('../Data/12 - NO/Output/BSE - 24x24 - ab.bmp')\n",
    "#ab_boundary_map_6AII=io.imread('../Data/6AII-1Ks-16x/Output/ab-grain-selection/macro_1ks_ab_boundary.bmp')\n",
    "bseImage_12 = plt.imread('../Data/12 - NO/Output/BSE - 24x24.bmp')\n",
    "\n",
    "ab_map_12 = ab_map_12[62:-6,13:-86]\n",
    "#ab_boundary_map_6AII = ab_boundary_map_6AII[200:-27,190:-61]\n",
    "bseImage_12 = bseImage_12[62:-6,13:-86]\n",
    "\n",
    "crop_12_max_70 = DicMap_12_70.max_shear[62:-5,13:-80]\n",
    "crop_12_max_80 = DicMap_12_80.max_shear[62:-5,13:-80]\n",
    "crop_12_max_90 = DicMap_12_90.max_shear[62:-5,13:-80]\n",
    "\n",
    "print(np.shape(ab_map_12), np.shape(crop_12_max_70))"
   ]
  },
  {
   "cell_type": "code",
   "execution_count": null,
   "metadata": {
    "collapsed": true
   },
   "outputs": [],
   "source": [
    "ab_12_a_70_max = np.ma.filled(np.ma.array(crop_12_max_70, mask=(ab_map_12>1)),np.nan)\n",
    "ab_12_b_70_max = np.ma.filled(np.ma.array(crop_12_max_70, mask=(ab_map_12<1)),np.nan)\n",
    "\n",
    "ab_12_a_80_max = np.ma.filled(np.ma.array(crop_12_max_80, mask=(ab_map_12>1)),np.nan)\n",
    "ab_12_b_80_max = np.ma.filled(np.ma.array(crop_12_max_80, mask=(ab_map_12<1)),np.nan)\n",
    "\n",
    "ab_12_a_90_max = np.ma.filled(np.ma.array(crop_12_max_90, mask=(ab_map_12>1)),np.nan)\n",
    "ab_12_b_90_max = np.ma.filled(np.ma.array(crop_12_max_90, mask=(ab_map_12<1)),np.nan)"
   ]
  },
  {
   "cell_type": "code",
   "execution_count": null,
   "metadata": {
    "collapsed": true
   },
   "outputs": [],
   "source": [
    "hist = np.histogram(ab_12_b_90_max, bins=150, range=(0,0.15), normed=True)\n",
    "\n",
    "\n",
    "i=0\n",
    "for h in hist[0]:\n",
    "    print(hist[0][i])\n",
    "    i += 1"
   ]
  },
  {
   "cell_type": "code",
   "execution_count": null,
   "metadata": {
    "collapsed": true
   },
   "outputs": [],
   "source": [
    "#the_map = crop_12_max_70\n",
    "\n",
    "#print(np.mean(the_map))\n",
    "#print(np.percentile(the_map, 99))\n",
    "#print(np.percentile(the_map, 98))\n",
    "#print(np.percentile(the_map, 95))\n",
    "#print(np.percentile(the_map, 90))\n",
    "\n",
    "calc_mask_val(ab_12_a_70_max)\n",
    "calc_mask_val(ab_12_b_70_max)\n",
    "calc_mask_val(ab_12_a_80_max)\n",
    "calc_mask_val(ab_12_b_80_max)\n",
    "calc_mask_val(ab_12_a_90_max)\n",
    "calc_mask_val(ab_12_b_90_max)"
   ]
  },
  {
   "cell_type": "code",
   "execution_count": null,
   "metadata": {
    "collapsed": true
   },
   "outputs": [],
   "source": [
    "output(ab_12_a_90_max, 0.20)"
   ]
  },
  {
   "cell_type": "code",
   "execution_count": null,
   "metadata": {
    "collapsed": true
   },
   "outputs": [],
   "source": [
    "np.histogram"
   ]
  },
  {
   "cell_type": "markdown",
   "metadata": {},
   "source": [
    "### Load in EBSD map, detect grains thena calculate grain misorientation"
   ]
  },
  {
   "cell_type": "code",
   "execution_count": null,
   "metadata": {
    "collapsed": true
   },
   "outputs": [],
   "source": []
  },
  {
   "cell_type": "code",
   "execution_count": null,
   "metadata": {
    "collapsed": true
   },
   "outputs": [],
   "source": [
    "#Load in EBSD map and calculate misorientation\n",
    "EbsdFilePath_5AI = \"../Data/MO-5-repeated-unloading/Output/EBSD/Sample 5 cleaned\"\n",
    "\n",
    "Ebsd_5AI = ebsd.Map(EbsdFilePath_5AI, \"hexagonal\")\n",
    "Ebsd_5AI.loadSlipSystems(filepath=\"defdap/slip_systems/hexagonal_withca.txt\", cOverA=1.54)\n",
    "Ebsd_5AI.binData = Ebsd_5AI.binData[::-1]  #rotate the map 180 degrees\n",
    "Ebsd_5AI.buildQuatArray()\n",
    "Ebsd_5AI.findBoundaries(boundDef = 10)\n",
    "Ebsd_5AI.findGrains(minGrainSize=50)\n",
    "Ebsd_5AI.calcGrainMisOri(calcAxis = True)    #This line takes about 20 minutes to run but is \n",
    "                                            #required to display misorientaion\n",
    "#EbsdMap.calcGrainAvOris()   #If you don't run the misoriatation calculation you need to run this instead.\n",
    "                            #It takes awhile aswell but not as long as the above\n",
    "    \n",
    "Ebsd_5AI.calcAverageGrainSchmidFactors(loadVector=np.array([1, 0, 0])) "
   ]
  },
  {
   "cell_type": "code",
   "execution_count": null,
   "metadata": {
    "collapsed": true
   },
   "outputs": [],
   "source": [
    "#Load in EBSD map and calculate misorientation\n",
    "EbsdFilePath_11A = \"../Data/N1-11-repeated/Output/EBSD/Sample11 Zoom\"\n",
    "\n",
    "Ebsd_11A = ebsd.Map(EbsdFilePath_11A, \"hexagonal\")\n",
    "Ebsd_11A.loadSlipSystems(filepath=\"defdap/slip_systems/hexagonal_withca.txt\", cOverA=1.54)\n",
    "#Ebsd_11A.binData = EbsdFilePath_11A.binData[::-1]  #rotate the map 180 degrees\n",
    "Ebsd_11A.buildQuatArray()\n",
    "Ebsd_11A.findBoundaries(boundDef = 10)\n",
    "Ebsd_11A.findGrains(minGrainSize=50)\n",
    "Ebsd_11A.calcGrainMisOri(calcAxis = True)    #This line takes about 20 minutes to run but is \n",
    "                                            #required to display misorientaion\n",
    "#EbsdMap.calcGrainAvOris()   #If you don't run the misoriatation calculation you need to run this instead.\n",
    "                            #It takes awhile aswell but not as long as the above\n",
    "    \n",
    "Ebsd_11A.calcAverageGrainSchmidFactors(loadVector=np.array([1, 0, 0])) "
   ]
  },
  {
   "cell_type": "markdown",
   "metadata": {},
   "source": [
    "### Loading Pattern "
   ]
  },
  {
   "cell_type": "code",
   "execution_count": null,
   "metadata": {
    "collapsed": true
   },
   "outputs": [],
   "source": []
  },
  {
   "cell_type": "code",
   "execution_count": null,
   "metadata": {
    "collapsed": true
   },
   "outputs": [],
   "source": []
  },
  {
   "cell_type": "code",
   "execution_count": null,
   "metadata": {
    "collapsed": true
   },
   "outputs": [],
   "source": []
  },
  {
   "cell_type": "code",
   "execution_count": null,
   "metadata": {
    "collapsed": true
   },
   "outputs": [],
   "source": []
  },
  {
   "cell_type": "code",
   "execution_count": null,
   "metadata": {
    "collapsed": true
   },
   "outputs": [],
   "source": [
    "#DicMap_5AI_70.setHomogPoint(display='pattern')\n"
   ]
  },
  {
   "cell_type": "code",
   "execution_count": null,
   "metadata": {
    "collapsed": true
   },
   "outputs": [],
   "source": []
  },
  {
   "cell_type": "code",
   "execution_count": null,
   "metadata": {
    "collapsed": true
   },
   "outputs": [],
   "source": []
  },
  {
   "cell_type": "code",
   "execution_count": null,
   "metadata": {
    "collapsed": true
   },
   "outputs": [],
   "source": []
  },
  {
   "cell_type": "code",
   "execution_count": null,
   "metadata": {
    "collapsed": true
   },
   "outputs": [],
   "source": []
  },
  {
   "cell_type": "code",
   "execution_count": null,
   "metadata": {
    "collapsed": true
   },
   "outputs": [],
   "source": []
  },
  {
   "cell_type": "markdown",
   "metadata": {},
   "source": [
    "## Run these cells when notebook was restarted\n"
   ]
  },
  {
   "cell_type": "code",
   "execution_count": null,
   "metadata": {
    "collapsed": true
   },
   "outputs": [],
   "source": [
    "\n",
    "\n"
   ]
  },
  {
   "cell_type": "code",
   "execution_count": null,
   "metadata": {
    "collapsed": true
   },
   "outputs": [],
   "source": []
  },
  {
   "cell_type": "code",
   "execution_count": null,
   "metadata": {
    "collapsed": true
   },
   "outputs": [],
   "source": [
    "ebsd_homog = np.array((\n",
    "(291, 351),\n",
    " (94, 329),\n",
    " (94, 121),\n",
    " (289, 276),\n",
    " (329, 215),\n",
    " (171, 186),\n",
    " (358, 78),\n",
    " (146, 75),\n",
    " (170, 249)\n",
    "    ))\n",
    "\n",
    "\n",
    "DIC_homog = np.array((\n",
    "(416, 536),\n",
    " (71, 488),\n",
    " (82, 126),\n",
    " (416, 405),\n",
    " (488, 306),\n",
    " (216, 241),\n",
    " (552, 63),\n",
    " (179, 46),\n",
    " (208, 351)\n",
    "))\n",
    "\n",
    "Ebsd_6AII.homogPoints = ebsd_homog\n",
    "DicMap_6AII_70.homogPoints = DIC_homog\n",
    "DicMap_6AII_80.homogPoints = DIC_homog\n",
    "DicMap_6AII_90.homogPoints = DIC_homog\n",
    "\n",
    "DicMap_6AII_70.linkEbsdMap(Ebsd_6AII)\n",
    "DicMap_6AII_80.linkEbsdMap(Ebsd_6AII)\n",
    "DicMap_6AII_90.linkEbsdMap(Ebsd_6AII)"
   ]
  },
  {
   "cell_type": "code",
   "execution_count": null,
   "metadata": {
    "collapsed": true
   },
   "outputs": [],
   "source": [
    "ebsd_homog = np.array((\n",
    " (226, 116),\n",
    " (237, 93),\n",
    " (178, 65),\n",
    " (92, 47),\n",
    " (173, 87),\n",
    " (122, 88),\n",
    " (180, 139),\n",
    " (144, 156),\n",
    " (104, 142),\n",
    " (107, 183),\n",
    " (224, 146)\n",
    "))\n",
    "\n",
    "DIC_homog = np.array ((\n",
    " (361, 167),\n",
    " (381, 112),\n",
    " (256, 53),\n",
    " (76, 21),\n",
    " (247, 108),\n",
    " (139, 112),\n",
    " (261, 229),\n",
    " (183, 276),\n",
    " (100, 242),\n",
    " (102, 341),\n",
    " (355, 240)\n",
    "))\n",
    "\n",
    "Ebsd_5AI.homogPoints = ebsd_homog\n",
    "DicMap_5AI_70.homogPoints = DIC_homog\n",
    "DicMap_5AI_80.homogPoints = DIC_homog\n",
    "DicMap_5AI_90.homogPoints = DIC_homog\n",
    "\n",
    "DicMap_5AI_70.linkEbsdMap(Ebsd_5AI)\n",
    "DicMap_5AI_80.linkEbsdMap(Ebsd_5AI)\n",
    "DicMap_5AI_90.linkEbsdMap(Ebsd_5AI)"
   ]
  },
  {
   "cell_type": "markdown",
   "metadata": {},
   "source": [
    "### Plot max shear with boundaries"
   ]
  },
  {
   "cell_type": "code",
   "execution_count": null,
   "metadata": {
    "collapsed": true
   },
   "outputs": [],
   "source": [
    "DicMap_6AII_70.plotMaxShear(vmax=0.05, plotGBs=True)\n",
    "DicMap_6AII_80.plotMaxShear(vmax=0.05, plotGBs=True)\n",
    "DicMap_6AII_90.plotMaxShear(vmax=0.05, plotGBs=True)\n"
   ]
  },
  {
   "cell_type": "code",
   "execution_count": null,
   "metadata": {
    "collapsed": true
   },
   "outputs": [],
   "source": [
    "DicMap_5AI_70.plotMaxShear(vmax=0.05, plotGBs=True)\n",
    "DicMap_5AI_80.plotMaxShear(vmax=0.05, plotGBs=True)\n",
    "DicMap_5AI_90.plotMaxShear(vmax=0.05, plotGBs=True)\n"
   ]
  },
  {
   "cell_type": "code",
   "execution_count": null,
   "metadata": {
    "collapsed": true
   },
   "outputs": [],
   "source": [
    "DicMap_5AI_70.setHomogPoint()\n",
    "Ebsd_5AI.setHomogPoint()"
   ]
  },
  {
   "cell_type": "markdown",
   "metadata": {},
   "source": [
    "# A-B seperation"
   ]
  },
  {
   "cell_type": "code",
   "execution_count": null,
   "metadata": {
    "collapsed": true
   },
   "outputs": [],
   "source": [
    "DicMap_6AII_70.findGrains(minGrainSize=100)\n",
    "#DicMap_6AII_80.findGrains(minGrainSize=100)\n",
    "#DicMap_6AII_90.findGrains(minGrainSize=100)\n"
   ]
  },
  {
   "cell_type": "code",
   "execution_count": null,
   "metadata": {
    "collapsed": true
   },
   "outputs": [],
   "source": [
    "print(emptymap.shape)"
   ]
  },
  {
   "cell_type": "code",
   "execution_count": null,
   "metadata": {
    "collapsed": true
   },
   "outputs": [],
   "source": [
    "print(range(17))"
   ]
  },
  {
   "cell_type": "code",
   "execution_count": null,
   "metadata": {
    "collapsed": true
   },
   "outputs": [],
   "source": [
    "selMap = DicMap_6AII_70\n",
    "\n",
    "ids=range(100)\n",
    "\n",
    "def plotGrains(ids):\n",
    "\n",
    "    fig,ax = plt.subplots()\n",
    "    for id in ids:\n",
    "        selMap[id].plotMaxShear(ax=ax, refAxes='Map', vmin=0, vmax=8)\n",
    "\n",
    "plotGrains(ids)"
   ]
  },
  {
   "cell_type": "code",
   "execution_count": null,
   "metadata": {
    "collapsed": true
   },
   "outputs": [],
   "source": [
    "selMap[16].plotMaxShear()"
   ]
  },
  {
   "cell_type": "code",
   "execution_count": null,
   "metadata": {
    "collapsed": true
   },
   "outputs": [],
   "source": [
    "ab_map_6AII=io.imread('../Data/6AII-1Ks-16x/Output/ab-grain-selection/macro_1ks_ab.tif')\n",
    "ab_boundary_map_6AII=io.imread('../Data/6AII-1Ks-16x/Output/ab-grain-selection/macro_1ks_ab_boundary.bmp')\n",
    "bseImage_6AII = plt.imread('../Data/6AII-1Ks-16x/Output/ab-grain-selection/Macro-1KS-090-Shiftcorrection.bmp')\n"
   ]
  },
  {
   "cell_type": "code",
   "execution_count": null,
   "metadata": {
    "collapsed": true
   },
   "outputs": [],
   "source": []
  },
  {
   "cell_type": "code",
   "execution_count": null,
   "metadata": {
    "collapsed": true
   },
   "outputs": [],
   "source": [
    "Sample_6AII_70=ab_Maps()\n",
    "Sample_6AII_70.creat_masks(ab_map_6AII, ab_boundary_map_6AII, 190, 50, 200, 30, DicMap_6AII_70, bseImage_6AII)\n",
    "Sample_6AII_70.creat_def_map(DicMap_6AII_70)\n",
    "\n",
    "Sample_6AII_80=ab_Maps()\n",
    "Sample_6AII_80.creat_masks(ab_map_6AII, ab_boundary_map_6AII, 190, 50, 200, 30, DicMap_6AII_80, bseImage_6AII)\n",
    "Sample_6AII_80.creat_def_map(DicMap_6AII_80)\n",
    "\n",
    "Sample_6AII_90=ab_Maps()\n",
    "Sample_6AII_90.creat_masks(ab_map_6AII, ab_boundary_map_6AII, 190, 50, 200, 30, DicMap_6AII_90, bseImage_6AII)\n",
    "Sample_6AII_90.creat_def_map(DicMap_6AII_90)"
   ]
  },
  {
   "cell_type": "code",
   "execution_count": null,
   "metadata": {
    "collapsed": true
   },
   "outputs": [],
   "source": [
    "print_maps(Sample_6AII_70.max_shear.alpha, vmin_1=0,vmax_1=0.05)\n",
    "print_maps(Sample_6AII_80.max_shear.beta, vmin_1=0,vmax_1=0.05)\n",
    "print_maps(Sample_6AII_90.max_shear.mixed, vmin_1=0,vmax_1=0.05)"
   ]
  },
  {
   "cell_type": "code",
   "execution_count": null,
   "metadata": {
    "collapsed": true
   },
   "outputs": [],
   "source": [
    "print_maps(Sample_6AII_70.BSE.alpha, vmin_1=0,vmax_1=255)\n",
    "print_maps(Sample_6AII_70.BSE.beta, vmin_1=0,vmax_1=255)\n",
    "print_maps(Sample_6AII_70.BSE.mixed, vmin_1=0,vmax_1=255)"
   ]
  },
  {
   "cell_type": "code",
   "execution_count": null,
   "metadata": {
    "collapsed": true
   },
   "outputs": [],
   "source": []
  },
  {
   "cell_type": "code",
   "execution_count": null,
   "metadata": {
    "collapsed": true
   },
   "outputs": [],
   "source": [
    "Sample_6AII_70.f11.mixed"
   ]
  },
  {
   "cell_type": "code",
   "execution_count": null,
   "metadata": {
    "collapsed": true
   },
   "outputs": [],
   "source": []
  },
  {
   "cell_type": "code",
   "execution_count": null,
   "metadata": {
    "collapsed": true
   },
   "outputs": [],
   "source": []
  },
  {
   "cell_type": "code",
   "execution_count": null,
   "metadata": {
    "collapsed": true
   },
   "outputs": [],
   "source": [
    "fig= plt.figure(figsize=(10,7))\n",
    "plt.imshow(Sample1.BSE.mixed, cmap='Greys');\n",
    "plt.tick_params(axis='both', which='both', bottom='off', top='off', labelbottom='off', right='off', left='off', labelleft='off')\n",
    "cbar.set_label(label=\"$\\gamma_{eff}$\",size=40)\n",
    "cbar.ax.tick_params(labelsize=20)"
   ]
  },
  {
   "cell_type": "code",
   "execution_count": null,
   "metadata": {
    "collapsed": true
   },
   "outputs": [],
   "source": []
  },
  {
   "cell_type": "code",
   "execution_count": null,
   "metadata": {
    "collapsed": true
   },
   "outputs": [],
   "source": []
  },
  {
   "cell_type": "code",
   "execution_count": null,
   "metadata": {
    "collapsed": true
   },
   "outputs": [],
   "source": []
  },
  {
   "cell_type": "code",
   "execution_count": null,
   "metadata": {
    "collapsed": true
   },
   "outputs": [],
   "source": []
  },
  {
   "cell_type": "code",
   "execution_count": null,
   "metadata": {
    "collapsed": true
   },
   "outputs": [],
   "source": []
  },
  {
   "cell_type": "code",
   "execution_count": null,
   "metadata": {
    "collapsed": true
   },
   "outputs": [],
   "source": []
  },
  {
   "cell_type": "code",
   "execution_count": null,
   "metadata": {
    "collapsed": true
   },
   "outputs": [],
   "source": []
  },
  {
   "cell_type": "markdown",
   "metadata": {},
   "source": [
    "## Size and shape"
   ]
  },
  {
   "cell_type": "code",
   "execution_count": null,
   "metadata": {
    "collapsed": true
   },
   "outputs": [],
   "source": [
    "print(\"\\t\\tDIC script\\tOld script\")\n",
    "print(\"x-dimension: \\t\" + str(DicMap.xDim) + \"\\t\\t\" + str(np.shape(cropped_boundary)[1]))\n",
    "print(\"y-dimention: \\t\" + str(DicMap.yDim) + \"\\t\\t\" + str(np.shape(cropped_boundary)[0]))"
   ]
  },
  {
   "cell_type": "code",
   "execution_count": null,
   "metadata": {
    "collapsed": true
   },
   "outputs": [],
   "source": [
    "fraction=0\n",
    "colum=0\n",
    "row=0\n",
    "for x in cropped_mask:\n",
    "    colum=0\n",
    "    for y in x:\n",
    "        fraction += cropped_mask[row, colum]\n",
    "        colum += 1\n",
    "    row +=1\n",
    "fraction=fraction/(np.shape(cropped_mask)[0]*np.shape(cropped_mask)[1])/255\n",
    "print(fraction)"
   ]
  },
  {
   "cell_type": "code",
   "execution_count": null,
   "metadata": {
    "collapsed": true
   },
   "outputs": [],
   "source": []
  },
  {
   "cell_type": "code",
   "execution_count": null,
   "metadata": {
    "collapsed": true
   },
   "outputs": [],
   "source": [
    "DicMap.findGrains()"
   ]
  },
  {
   "cell_type": "code",
   "execution_count": null,
   "metadata": {
    "collapsed": true
   },
   "outputs": [],
   "source": [
    "DicMap.boundaries[1][10]"
   ]
  },
  {
   "cell_type": "code",
   "execution_count": null,
   "metadata": {
    "collapsed": true
   },
   "outputs": [],
   "source": [
    "ebsd.Map.\n"
   ]
  },
  {
   "cell_type": "code",
   "execution_count": null,
   "metadata": {
    "collapsed": true
   },
   "outputs": [],
   "source": [
    "DicMap.plotMaxShear(vmax=5, plotGBs=True)"
   ]
  },
  {
   "cell_type": "code",
   "execution_count": null,
   "metadata": {
    "collapsed": true
   },
   "outputs": [],
   "source": []
  },
  {
   "cell_type": "markdown",
   "metadata": {},
   "source": [
    "# Grain statistics"
   ]
  },
  {
   "cell_type": "code",
   "execution_count": null,
   "metadata": {
    "collapsed": true
   },
   "outputs": [],
   "source": [
    "DicMap.findGrains(minGrainSize=50)\n",
    "myGrainMap=DicMap.grains\n",
    "myNumberGrainsDic=np.max(DicMap.grains)\n",
    "myShearMap=DicMap.max_shear[200:-30,190:-50]          #enter crop\n",
    "mySizeConversion=pow((30*16/2048),2)\n",
    "\n",
    "myGrainListDic=np.zeros(shape=[myNumberGrainsDic,7])\n",
    "myArray={}\n",
    "\n",
    "position=0\n",
    "for x in myGrainListDic:\n",
    "    myGrainListDic[position,0]=position+1\n",
    "    position=position+1\n",
    "    myArray[\"GrainSize\"+str(position)]=0\n",
    "    myArray[\"GrainStrain\"+str(position)]=0\n",
    "\n",
    "    \n",
    "    \n",
    "myArray[\"boundaryPixles\"]=0\n",
    "xi=0\n",
    "for x in myShearMap:\n",
    "    yi=0 \n",
    "    for y in x:\n",
    "        value=myGrainMap[xi,yi]\n",
    "        if value>0:\n",
    "            myArray[\"GrainSize\"+str(value)]=myArray[\"GrainSize\"+str(value)]+1\n",
    "            myArray[\"GrainStrain\"+str(value)]=myArray[\"GrainStrain\"+str(value)]+y\n",
    "        else:\n",
    "            myArray[\"boundaryPixles\"]=myArray[\"boundaryPixles\"]+1\n",
    "        yi=yi+1\n",
    "    xi=xi+1\n",
    "\n",
    "position=0\n",
    "for x in myGrainListDic:\n",
    "    currentGrain=DicMap.grainList[position]\n",
    "    SchmidFacCurrent=currentGrain.ebsdGrain.averageSchmidFactors\n",
    "    prism=(SchmidFacCurrent[1],SchmidFacCurrent[2],SchmidFacCurrent[3])\n",
    "    pyramidal=(SchmidFacCurrent[4],SchmidFacCurrent[5])\n",
    "    py_ca=(SchmidFacCurrent[6],SchmidFacCurrent[7],SchmidFacCurrent[8],SchmidFacCurrent[9])\n",
    "    \n",
    "    myGrainListDic[position,1]=myArray[\"GrainSize\"+str(position+1)]*mySizeConversion\n",
    "    myGrainListDic[position,2]=myArray[\"GrainStrain\"+str(position+1)]/myArray[\"GrainSize\"+str(position+1)]*100\n",
    "    myGrainListDic[position,3]=np.max(SchmidFacCurrent[0])               #Basal\n",
    "    myGrainListDic[position,4]=np.max(prism)                             #Prism\n",
    "    myGrainListDic[position,5]=np.max(pyramidal)                         #Pyramidal\n",
    "    myGrainListDic[position,6]=np.max(py_ca)                             #Pyramidal_c+a\n",
    "    \n",
    "    position=position+1\n",
    "\n",
    "    \n",
    "    \n",
    "myGrainListDic_sorted=np.copy(myGrainListDic)\n",
    "myGrainListDic_size=np.copy(myGrainListDic)\n",
    "bubble_sort(myGrainListDic_sorted)\n",
    "bubble_size(myGrainListDic_size)\n",
    "    \n",
    "print(myGrainListDic)\n",
    "print(\"boundaryPixles\", myArray[\"boundaryPixles\"])\n"
   ]
  },
  {
   "cell_type": "markdown",
   "metadata": {},
   "source": [
    "### Update sample name and path"
   ]
  },
  {
   "cell_type": "code",
   "execution_count": null,
   "metadata": {
    "collapsed": true
   },
   "outputs": [],
   "source": [
    "load=\"070\"\n",
    "sample=\"Macro-1Ks\"\n",
    "\n",
    "sample_sorted=sample+load+\"%-GrainStrain_sorted.txt\"\n",
    "sample_unsorted=sample+load+\"%-GrainStrain_unsorted.txt\"\n",
    "path=\"../Data/6AII-1Ks-16x/Results/\"\n",
    "\n",
    "name=\"macro-1ks-\"+load+\"-Gb.png\"\n",
    "DicMap.plotMaxShear(vmax=5, plotGBs=True, plotColourBar=True)\n",
    "plt.savefig(path+name)\n",
    "\n",
    "name=\"macro-1ks-\"+load+\"-noGb.png\"\n",
    "DicMap.plotMaxShear(vmax=5, plotGBs=False, plotColourBar=True)\n",
    "plt.savefig(path+name)\n",
    "\n",
    "f=open(path+sample_unsorted, 'wb')\n",
    "np.savetxt(f,myGrainListDic,delimiter=\"\\t\", fmt=\"%s\")\n",
    "f.close()\n",
    "\n",
    "f=open(path+sample_sorted, 'wb')\n",
    "np.savetxt(f,myGrainListDic_sorted,delimiter=\"\\t\", fmt=\"%s\")\n",
    "f.close()"
   ]
  },
  {
   "cell_type": "markdown",
   "metadata": {},
   "source": [
    "### Grains with high strain"
   ]
  },
  {
   "cell_type": "code",
   "execution_count": null,
   "metadata": {
    "collapsed": true
   },
   "outputs": [],
   "source": [
    "myGrains_copy=np.copy(myGrainListDic_sorted)\n",
    "grainSorted=myGrains_copy[-10:,0]\n",
    "grainSorted=list(map(int, grainSorted))\n",
    "print(grainSorted)"
   ]
  },
  {
   "cell_type": "code",
   "execution_count": null,
   "metadata": {
    "collapsed": true
   },
   "outputs": [],
   "source": [
    "#### Copy array manualy and select"
   ]
  },
  {
   "cell_type": "code",
   "execution_count": null,
   "metadata": {
    "collapsed": true
   },
   "outputs": [],
   "source": [
    "grainCopy=(102, 94, 75, 119, 66, 149, 92, 195)\n",
    "folder=\"../Data/6AII-1Ks-16x/Results/Grain-Images_high_strain/070/\"        #select folder\n",
    "\n",
    "for grain in grainCopy:\n",
    "    currentGrain=DicMap.grainList[grain-1]\n",
    "    strain=\"%.3f\" % myGrainListDic[grain-1,2]\n",
    "    name=\"Grain_\"+str(grain)+\"__\"+strain+\".png\"\n",
    "    path=folder+name\n",
    "    currentGrain.calcSlipTraces()\n",
    "    currentGrain.plotMaxShear(plotSlipTraces=True, plotShearBands=True, vmax=5)\n",
    "    plt.savefig(path)\n",
    "    print(grain)\n",
    "\n",
    "    name=\"Grain_\"+str(grain)+\"__\"+strain+\"__no-bands.png\"\n",
    "    path=folder+name\n",
    "    currentGrain.plotMaxShear(plotSlipTraces=False, plotShearBands=False, vmax=5)\n",
    "    plt.savefig(path)\n",
    "    \n"
   ]
  },
  {
   "cell_type": "code",
   "execution_count": null,
   "metadata": {
    "collapsed": true
   },
   "outputs": [],
   "source": [
    "### Large grains"
   ]
  },
  {
   "cell_type": "code",
   "execution_count": null,
   "metadata": {
    "collapsed": true
   },
   "outputs": [],
   "source": [
    "myGrains_copy=np.copy(myGrainListDic_size)\n",
    "grainSorted=myGrains_copy[-10:,0]\n",
    "grainSorted=list(map(int, grainSorted))\n",
    "print(grainSorted)"
   ]
  },
  {
   "cell_type": "code",
   "execution_count": null,
   "metadata": {
    "collapsed": true
   },
   "outputs": [],
   "source": [
    "#### Copy array manualy and select"
   ]
  },
  {
   "cell_type": "code",
   "execution_count": null,
   "metadata": {
    "collapsed": true
   },
   "outputs": [],
   "source": [
    "grainCopy=(59, 57, 18, 159, 129, 70, 133, 121)\n",
    "folder=\"../Data/6AII-1Ks-16x/Results/Grain-Images_large/070/\"        #select folder\n",
    "\n",
    "for grain in grainCopy:\n",
    "    currentGrain=DicMap.grainList[grain-1]\n",
    "    strain=\"%.3f\" % myGrainListDic[grain-1,2]\n",
    "    name=\"Grain_\"+str(grain)+\"__\"+strain+\".png\"\n",
    "    path=folder+name\n",
    "    currentGrain.calcSlipTraces()\n",
    "    currentGrain.plotMaxShear(plotSlipTraces=True, plotShearBands=True, vmax=5)\n",
    "    plt.savefig(path)\n",
    "    print(grain)\n",
    "\n",
    "    name=\"Grain_\"+str(grain)+\"__\"+strain+\"__no-bands.png\"\n",
    "    path=folder+name\n",
    "    currentGrain.plotMaxShear(plotSlipTraces=False, plotShearBands=False, vmax=5)\n",
    "    plt.savefig(path)\n",
    "    \n"
   ]
  },
  {
   "cell_type": "code",
   "execution_count": null,
   "metadata": {
    "collapsed": true
   },
   "outputs": [],
   "source": []
  },
  {
   "cell_type": "code",
   "execution_count": null,
   "metadata": {
    "collapsed": true
   },
   "outputs": [],
   "source": [
    "plt.text?"
   ]
  },
  {
   "cell_type": "code",
   "execution_count": null,
   "metadata": {
    "collapsed": true
   },
   "outputs": [],
   "source": []
  },
  {
   "cell_type": "code",
   "execution_count": null,
   "metadata": {
    "collapsed": true
   },
   "outputs": [],
   "source": []
  },
  {
   "cell_type": "code",
   "execution_count": null,
   "metadata": {
    "collapsed": true
   },
   "outputs": [],
   "source": [
    "class ab_Maps(object):\n",
    "    def __init__(self):\n",
    "        self.f11 = None\n",
    "        self.f12 = None\n",
    "        self.f22 = None\n",
    "        self.Max_shear = None\n",
    "        \n",
    "    def creat_f11(self, def_map):\n",
    "        self.f11 = Map_transform()\n",
    "        self.f11.transform(def_map)\n",
    "        \n",
    "    def creat_def_map(self):\n",
    "        self.max_shear = Map_transform()\n",
    "        self.max_shear.transform(max_shear)\n",
    "        \n",
    "        self.f11 = Map_transform()\n",
    "        self.f11.transform(f11_map)\n",
    "        \n",
    "        self.f12 = Map_transform()\n",
    "        self.f12.transform(f12_map)\n",
    "        \n",
    "        self.f22 = Map_transform()\n",
    "        self.f22.transform(f22_map)\n",
    "        \n",
    "          \n",
    "class  Map_transform():\n",
    "    def __init__(self):\n",
    "        self.alpha = None\n",
    "        self.beta = None\n",
    "        self.mixed = None\n",
    "        \n",
    "    def transform(self, def_map):\n",
    "        cur_map = np.zeros(np.shape(def_map))\n",
    "        \n",
    "        self.alpha = np.zeros(np.shape(def_map))\n",
    "        self.beta = np.zeros(np.shape(def_map)) \n",
    "        self.mixed = np.zeros(np.shape(def_map))\n",
    "        \n",
    "        colum=0\n",
    "        \n",
    "        for j in def_map:\n",
    "            row=0\n",
    "            for i in j:\n",
    "                if DicMap.grains[colum,row] in a_grains:\n",
    "                    self.alpha[colum,row] = i\n",
    "                    self.beta[colum,row] = -1\n",
    "                    self.mixed = -1\n",
    "\n",
    "                elif DicMap.grains[colum,row] in b_grains:\n",
    "                    self.beta[colum,row] = i\n",
    "                    a_maxshear[colum,row] = -1\n",
    "                    self.mixed = -1\n",
    "\n",
    "                else:\n",
    "                    self.alpha[colum,row] = -1\n",
    "                    self.beta[colum,row] = -1\n",
    "                    mixed_maxshear[colum,row] = i\n",
    "\n",
    "                row += 1\n",
    "            colum += 1    \n",
    "    \n"
   ]
  },
  {
   "cell_type": "code",
   "execution_count": null,
   "metadata": {
    "collapsed": true
   },
   "outputs": [],
   "source": [
    "def start_ab_seperation(self_map, self_boundaries ,xMin, xMax, yMin, yMax, a_value = 85, b_value = 10):\n",
    "    global cropped_mask\n",
    "    global cropped_boundary\n",
    "    global cropped_boundary_1\n",
    "    global max_shear\n",
    "    global f11_map\n",
    "    global f12_map\n",
    "    global f22_map\n",
    "    x_upper=DicMap.xDim + xMin\n",
    "    y_upper=DicMap.yDim + yMin\n",
    "    cropped_mask=self_map[yMin:y_upper,xMin:x_upper]\n",
    "    cropped_boundary=self_boundaries[yMin:y_upper,xMin:x_upper]\n",
    "    cropped_boundary_1=np.zeros((y_upper - yMin, x_upper - xMin))\n",
    "    \n",
    "    max_shear = DicMap.max_shear[yMin: -yMax, xMin: -xMax]\n",
    "    f11_map = DicMap.f11[yMin: -yMax, xMin: -xMax]\n",
    "    f12_map = DicMap.f12[yMin: -yMax, xMin: -xMax]\n",
    "    f22_map = DicMap.f22[yMin: -yMax, xMin: -xMax]\n",
    "\n",
    "    \n",
    "    \n",
    "    row=0\n",
    "    for i in cropped_boundary:\n",
    "        colum=0\n",
    "        for j in i:\n",
    "            if j == 255:\n",
    "                cropped_boundary_1[row,colum] = 1\n",
    "            elif j == 0:\n",
    "                cropped_boundary_1[row,colum] = 0\n",
    "            else:\n",
    "                print(\"error\")\n",
    "            colum += 1\n",
    "        row += 1\n",
    "\n",
    "### start of \"ab_fraction code\n",
    "\n",
    "    row=0\n",
    "    a=0\n",
    "    global grains\n",
    "    global a_grains\n",
    "    global b_grains\n",
    "    global mixed_grains\n",
    "    global ab_stat\n",
    "    ab_stat=[\"Alpha\", 0,\"Beta\", 0,\"Mixed\", 0]\n",
    "    grains= dict()\n",
    "    a_grains= dict()\n",
    "    b_grains= dict()\n",
    "    mixed_grains= dict()\n",
    "    grains_temp= dict()\n",
    "    area_map=np.shape(DicMap.grains)[0]*np.shape(DicMap.grains)[1]\n",
    "\n",
    "    \n",
    "    ### This loop asign an average greyscale value to each grain, based on the ab_mask\n",
    "    for x in DicMap.grains:\n",
    "        colum=0\n",
    "        for y in x:\n",
    "            if y not in grains_temp:\n",
    "                grains_temp[y] = [1,0,0]\n",
    "                grains_temp[y][1] = cropped_mask[row, colum]/255\n",
    "            else:\n",
    "                grains_temp[y][0] += 1\n",
    "                grains_temp[y][1] += cropped_mask[row, colum]/255\n",
    "            colum += 1\n",
    "        row +=1\n",
    "        \n",
    "    for z in grains_temp:\n",
    "        u = grains_temp[z][1] / grains_temp [z][0] * 100\n",
    "        grains[z] = int(u)\n",
    "        if u > a_value:\n",
    "            ab_stat[1] += 1\n",
    "            a_grains[z] = 1\n",
    "        elif u < b_value:\n",
    "            ab_stat[3] += 1\n",
    "            b_grains[5] = 1\n",
    "        else:\n",
    "            ab_stat[5] += 1\n",
    "            mixed_grains[z] = 1\n",
    "            \n",
    "    ab_stat[1] = int(ab_stat[1]/len(grains)*100)\n",
    "    ab_stat[3] = int(ab_stat[3]/len(grains)*100)\n",
    "    ab_stat[5] = int(ab_stat[5]/len(grains)*100)\n",
    "            \n",
    "    \n",
    "\n",
    "\n",
    "def print_maps(self_map):   \n",
    "        fig= plt.figure(figsize=(10,7))\n",
    "        plt.imshow(self_map,cmap='viridis',vmin=0,vmax=0.05);\n",
    "        plt.tick_params(axis='both', which='both', bottom='off', top='off', labelbottom='off', right='off', left='off', labelleft='off')\n",
    "        cbar = plt.colorbar(pad=0.01)\n",
    "        cbar.set_label(label=\"$\\gamma_{eff}$\",size=40)\n",
    "        cbar.ax.tick_params(labelsize=20)"
   ]
  },
  {
   "cell_type": "code",
   "execution_count": null,
   "metadata": {
    "collapsed": true
   },
   "outputs": [],
   "source": []
  },
  {
   "cell_type": "code",
   "execution_count": null,
   "metadata": {
    "collapsed": true
   },
   "outputs": [],
   "source": []
  },
  {
   "cell_type": "code",
   "execution_count": null,
   "metadata": {
    "collapsed": true
   },
   "outputs": [],
   "source": []
  },
  {
   "cell_type": "code",
   "execution_count": null,
   "metadata": {
    "collapsed": true
   },
   "outputs": [],
   "source": [
    "vbf=xyz()"
   ]
  },
  {
   "cell_type": "code",
   "execution_count": null,
   "metadata": {
    "collapsed": true
   },
   "outputs": [],
   "source": [
    "value = 7"
   ]
  },
  {
   "cell_type": "code",
   "execution_count": null,
   "metadata": {
    "collapsed": true
   },
   "outputs": [],
   "source": [
    "class fgh():\n",
    "    def __init__(self, value):\n",
    "        self.five = value"
   ]
  },
  {
   "cell_type": "code",
   "execution_count": null,
   "metadata": {
    "collapsed": true
   },
   "outputs": [],
   "source": [
    "ytr=fgh(value)"
   ]
  }
 ],
 "metadata": {
  "anaconda-cloud": {},
  "kernelspec": {
   "display_name": "Python 3",
   "language": "python",
   "name": "python3"
  },
  "language_info": {
   "codemirror_mode": {
    "name": "ipython",
    "version": 3
   },
   "file_extension": ".py",
   "mimetype": "text/x-python",
   "name": "python",
   "nbconvert_exporter": "python",
   "pygments_lexer": "ipython3",
   "version": "3.6.1"
  }
 },
 "nbformat": 4,
 "nbformat_minor": 1
}
